{
 "cells": [
  {
   "cell_type": "code",
   "execution_count": 4,
   "id": "b7af9b8b-9ba1-467a-b099-aa07f6fb1c73",
   "metadata": {},
   "outputs": [],
   "source": [
    "import numpy as np\n",
    "import requests\n",
    "import pandas as pd\n",
    "import seaborn as sns\n",
    "import matplotlib.pyplot as plt\n",
    "from plotly import express as px\n",
    "import plotly.graph_objs as go\n",
    "from dash import Dash, html, Input, Output, Patch, dash_table\n",
    "import dash_leaflet as dl\n",
    "import json\n",
    "from dash import Dash, dcc, html, dash_table, Input, Output, State, callback, no_update\n",
    "import base64\n",
    "import datetime\n",
    "from datetime import date, datetime, timedelta\n",
    "import io\n",
    "from flask import Flask, jsonify\n",
    "import asyncio\n",
    "from threading import Thread"
   ]
  },
  {
   "cell_type": "markdown",
   "id": "4e9b1ac6-d436-4ef5-81af-b7bd44f0de07",
   "metadata": {},
   "source": [
    "## NASA API\n",
    "\n",
    "- access to current weather information for any location\n",
    "- intended to predict accident severity with current weather conditions and machine learning model"
   ]
  },
  {
   "cell_type": "code",
   "execution_count": 5,
   "id": "1bd4592f-e62c-4adb-a51b-c373a6b4c369",
   "metadata": {},
   "outputs": [],
   "source": [
    "# NASA API\n",
    "def get_nasa_power_data(lat, lon, start_date, end_date, for_graph=False):\n",
    "    \"\"\"\n",
    "    Fetches NASA POWER API data for given latitude, longitude, and time range.\n",
    "\n",
    "    Args:\n",
    "    - lat (float): Latitude of the location.\n",
    "    - lon (float): Longitude of the location.\n",
    "    - start_date (str): Start date in YYYYMMDD format.\n",
    "    - end_date (str): End date in YYYYMMDD format.\n",
    "\n",
    "    Returns:\n",
    "    - Pandas DataFrame with selected weather parameters.\n",
    "    \"\"\"\n",
    "\n",
    "    # Specify multiple parameters in the API request\n",
    "    parameters = \"PRECSNO,T2MDEW,PRECTOTCORR,T2M,WS2M,RH2M,CLOUD_AMT\"\n",
    "\n",
    "    url = \"https://power.larc.nasa.gov/api/temporal/daily/point\"\n",
    "    params = {\n",
    "        \"parameters\": parameters,\n",
    "        \"community\": \"RE\",\n",
    "        \"longitude\": lon,\n",
    "        \"latitude\": lat,\n",
    "        \"start\": start_date,\n",
    "        \"end\": end_date,\n",
    "        \"format\": \"JSON\"\n",
    "    }\n",
    "\n",
    "    response = requests.get(url, params=params)\n",
    "\n",
    "    data = response.json()\n",
    "\n",
    "    # Convert JSON response to DataFrame and transpose it\n",
    "    nasa_weather = pd.DataFrame.from_dict(data[\"properties\"][\"parameter\"], orient=\"index\").T\n",
    "\n",
    "    # Reset index and rename date column\n",
    "    nasa_weather.reset_index(inplace=True)\n",
    "    nasa_weather.rename(columns={\"index\": \"date\"}, inplace=True)\n",
    "\n",
    "    # Convert date column to proper datetime format\n",
    "    nasa_weather[\"date\"] = pd.to_datetime(nasa_weather[\"date\"], format=\"%Y%m%d\", errors=\"coerce\")\n",
    "    nasa_weather.dropna(subset=[\"date\"], inplace=True)  # Remove invalid date rows\n",
    "\n",
    "    nasa_weather.rename(columns={\n",
    "        \"PRECSNO\": \"Snow_Precipitation\",\n",
    "        \"T2MDEW\": \"Dew_Point_2m\",\n",
    "        \"PRECTOTCORR\": \"Total_Precipitation_mm\",\n",
    "        \"T2M\": \"Temperature_2m_C\",\n",
    "        \"WS2M\": \"Wind_Speed_2m\",\n",
    "        # new cols\n",
    "        \"RH2M\": \"Relative Humidity (%)\",\n",
    "        \"CLOUD_AMT\" : \"Cloud Cover (%)\",\n",
    "    }, inplace=True)\n",
    "    \n",
    "    # Add Rounded_Lat and Rounded_Lng for merging\n",
    "    nasa_weather['Rounded_Lat'] = lat\n",
    "    nasa_weather['Rounded_Lng'] = lon\n",
    "    \n",
    "    nasa_weather['Precipitation (in)'] = nasa_weather['Total_Precipitation_mm'] / 25.4 # mm to in\n",
    "    nasa_weather['Temperature (F)'] = (nasa_weather['Temperature_2m_C'] * (9./5.)) + 32. # C to F\n",
    "    nasa_weather['Wind Speed (mph)'] = nasa_weather['Wind_Speed_2m'] * 2.237 # m/s to mph\n",
    "\n",
    "    if for_graph:\n",
    "        nasa_weather = nasa_weather[[\"Precipitation (in)\",\"Temperature (F)\",\"Wind Speed (mph)\",\"Relative Humidity (%)\",\"Cloud Cover (%)\"]]\n",
    "\n",
    "    return nasa_weather"
   ]
  },
  {
   "cell_type": "markdown",
   "id": "96417ece-16ed-4b74-a272-5ad02440796b",
   "metadata": {},
   "source": [
    "## Interactive Weather App (in progress)"
   ]
  },
  {
   "cell_type": "code",
   "execution_count": 54,
   "id": "176625a8-69e8-445a-abc6-6d95d2c8be47",
   "metadata": {
    "tags": []
   },
   "outputs": [
    {
     "data": {
      "text/html": [
       "\n",
       "        <iframe\n",
       "            width=\"100%\"\n",
       "            height=\"650\"\n",
       "            src=\"http://127.0.0.1:1320/\"\n",
       "            frameborder=\"0\"\n",
       "            allowfullscreen\n",
       "            \n",
       "        ></iframe>\n",
       "        "
      ],
      "text/plain": [
       "<IPython.lib.display.IFrame at 0x1eaa08e7c10>"
      ]
     },
     "metadata": {},
     "output_type": "display_data"
    },
    {
     "name": "stdout",
     "output_type": "stream",
     "text": [
      "Epoch 1/20\n"
     ]
    },
    {
     "name": "stderr",
     "output_type": "stream",
     "text": [
      "C:\\Users\\littl\\anaconda3\\envs\\PIC16B-25W\\Lib\\site-packages\\keras\\src\\layers\\rnn\\rnn.py:200: UserWarning:\n",
      "\n",
      "Do not pass an `input_shape`/`input_dim` argument to a layer. When using Sequential models, prefer using an `Input(shape)` object as the first layer in the model instead.\n",
      "\n"
     ]
    },
    {
     "name": "stdout",
     "output_type": "stream",
     "text": [
      "\u001b[1m10/10\u001b[0m \u001b[32m━━━━━━━━━━━━━━━━━━━━\u001b[0m\u001b[37m\u001b[0m \u001b[1m10s\u001b[0m 75ms/step - acc: 0.2349 - loss: 0.1387\n",
      "Epoch 2/20\n",
      "\u001b[1m10/10\u001b[0m \u001b[32m━━━━━━━━━━━━━━━━━━━━\u001b[0m\u001b[37m\u001b[0m \u001b[1m1s\u001b[0m 71ms/step - acc: 0.3850 - loss: 0.0294\n",
      "Epoch 3/20\n",
      "\u001b[1m10/10\u001b[0m \u001b[32m━━━━━━━━━━━━━━━━━━━━\u001b[0m\u001b[37m\u001b[0m \u001b[1m1s\u001b[0m 76ms/step - acc: 0.3817 - loss: 0.0214\n",
      "Epoch 4/20\n",
      "\u001b[1m10/10\u001b[0m \u001b[32m━━━━━━━━━━━━━━━━━━━━\u001b[0m\u001b[37m\u001b[0m \u001b[1m1s\u001b[0m 72ms/step - acc: 0.2776 - loss: 0.0179\n",
      "Epoch 5/20\n",
      "\u001b[1m10/10\u001b[0m \u001b[32m━━━━━━━━━━━━━━━━━━━━\u001b[0m\u001b[37m\u001b[0m \u001b[1m1s\u001b[0m 71ms/step - acc: 0.4038 - loss: 0.0163\n",
      "Epoch 6/20\n",
      "\u001b[1m10/10\u001b[0m \u001b[32m━━━━━━━━━━━━━━━━━━━━\u001b[0m\u001b[37m\u001b[0m \u001b[1m1s\u001b[0m 73ms/step - acc: 0.3072 - loss: 0.0201\n",
      "Epoch 7/20\n",
      "\u001b[1m10/10\u001b[0m \u001b[32m━━━━━━━━━━━━━━━━━━━━\u001b[0m\u001b[37m\u001b[0m \u001b[1m1s\u001b[0m 72ms/step - acc: 0.2768 - loss: 0.0163\n",
      "Epoch 8/20\n",
      "\u001b[1m10/10\u001b[0m \u001b[32m━━━━━━━━━━━━━━━━━━━━\u001b[0m\u001b[37m\u001b[0m \u001b[1m1s\u001b[0m 83ms/step - acc: 0.2921 - loss: 0.0165\n",
      "Epoch 9/20\n",
      "\u001b[1m10/10\u001b[0m \u001b[32m━━━━━━━━━━━━━━━━━━━━\u001b[0m\u001b[37m\u001b[0m \u001b[1m1s\u001b[0m 76ms/step - acc: 0.3594 - loss: 0.0183\n",
      "Epoch 10/20\n",
      "\u001b[1m10/10\u001b[0m \u001b[32m━━━━━━━━━━━━━━━━━━━━\u001b[0m\u001b[37m\u001b[0m \u001b[1m1s\u001b[0m 84ms/step - acc: 0.3312 - loss: 0.0144\n",
      "Epoch 11/20\n",
      "\u001b[1m10/10\u001b[0m \u001b[32m━━━━━━━━━━━━━━━━━━━━\u001b[0m\u001b[37m\u001b[0m \u001b[1m1s\u001b[0m 68ms/step - acc: 0.3075 - loss: 0.0150\n",
      "Epoch 12/20\n",
      "\u001b[1m10/10\u001b[0m \u001b[32m━━━━━━━━━━━━━━━━━━━━\u001b[0m\u001b[37m\u001b[0m \u001b[1m1s\u001b[0m 75ms/step - acc: 0.3278 - loss: 0.0128\n",
      "Epoch 13/20\n",
      "\u001b[1m10/10\u001b[0m \u001b[32m━━━━━━━━━━━━━━━━━━━━\u001b[0m\u001b[37m\u001b[0m \u001b[1m1s\u001b[0m 75ms/step - acc: 0.2854 - loss: 0.0197\n",
      "Epoch 14/20\n",
      "\u001b[1m10/10\u001b[0m \u001b[32m━━━━━━━━━━━━━━━━━━━━\u001b[0m\u001b[37m\u001b[0m \u001b[1m1s\u001b[0m 78ms/step - acc: 0.3250 - loss: 0.0150\n",
      "Epoch 15/20\n",
      "\u001b[1m10/10\u001b[0m \u001b[32m━━━━━━━━━━━━━━━━━━━━\u001b[0m\u001b[37m\u001b[0m \u001b[1m1s\u001b[0m 67ms/step - acc: 0.3372 - loss: 0.0226\n",
      "Epoch 16/20\n",
      "\u001b[1m10/10\u001b[0m \u001b[32m━━━━━━━━━━━━━━━━━━━━\u001b[0m\u001b[37m\u001b[0m \u001b[1m1s\u001b[0m 74ms/step - acc: 0.3452 - loss: 0.0207\n",
      "Epoch 17/20\n",
      "\u001b[1m10/10\u001b[0m \u001b[32m━━━━━━━━━━━━━━━━━━━━\u001b[0m\u001b[37m\u001b[0m \u001b[1m1s\u001b[0m 67ms/step - acc: 0.3051 - loss: 0.0149\n",
      "Epoch 18/20\n",
      "\u001b[1m10/10\u001b[0m \u001b[32m━━━━━━━━━━━━━━━━━━━━\u001b[0m\u001b[37m\u001b[0m \u001b[1m1s\u001b[0m 77ms/step - acc: 0.3200 - loss: 0.0147\n",
      "Epoch 19/20\n",
      "\u001b[1m10/10\u001b[0m \u001b[32m━━━━━━━━━━━━━━━━━━━━\u001b[0m\u001b[37m\u001b[0m \u001b[1m1s\u001b[0m 66ms/step - acc: 0.3537 - loss: 0.0168\n",
      "Epoch 20/20\n",
      "\u001b[1m10/10\u001b[0m \u001b[32m━━━━━━━━━━━━━━━━━━━━\u001b[0m\u001b[37m\u001b[0m \u001b[1m1s\u001b[0m 71ms/step - acc: 0.3449 - loss: 0.0143\n",
      "\u001b[1m1/1\u001b[0m \u001b[32m━━━━━━━━━━━━━━━━━━━━\u001b[0m\u001b[37m\u001b[0m \u001b[1m1s\u001b[0m 877ms/step\n"
     ]
    }
   ],
   "source": [
    "app = Dash()\n",
    "app.layout = html.Div([\n",
    "    dcc.Tabs([\n",
    "        dcc.Tab(label='Current Weather', children=[\n",
    "            dcc.Markdown('''\n",
    "                ## Directions: \n",
    "                1. Pan and zoom in/out on the map to find your location.\n",
    "                2. Click your location on the map for current weather.\n",
    "                    Press the \"Submit\" button to confirm your selection and your weather reuslts will load promptly.\n",
    "                3. Check out the \"Weather Graphs\" and \"Weather Predictions\" tabs for more weather information.'''),\n",
    "            dcc.Markdown('''## Select Location:'''),\n",
    "            dl.Map( # add zoom to city buttons?\n",
    "                id='map',\n",
    "                n_clicks=0,\n",
    "                children=[\n",
    "                    dl.TileLayer()\n",
    "                ],\n",
    "                center=[34, -118],\n",
    "                zoom=9,\n",
    "                style={'height': '50vh'}\n",
    "            ),\n",
    "            html.Div(id='coords'),\n",
    "            html.Button('Submit',id='submit',n_clicks=0), \n",
    "            dcc.Markdown('## Current Weather:'),\n",
    "            dash_table.DataTable(id='weather',\n",
    "                style_as_list_view=True,\n",
    "                style_cell={'padding': '2px'},\n",
    "                style_header={\n",
    "                    'backgroundColor': 'white',\n",
    "                    'fontWeight': 'bold'\n",
    "                },\n",
    "                style_cell_conditional=[\n",
    "                    {'textAlign': 'center'}\n",
    "                ],\n",
    "            ),\n",
    "            dcc.Store(id='latitude'),\n",
    "            dcc.Store(id='longitude'),\n",
    "            dcc.Store(id='date'),\n",
    "        ]),\n",
    "        \n",
    "        dcc.Tab(label='Weather Graphs', children=[\n",
    "            dcc.Markdown('''\n",
    "                ## Directions: \n",
    "                1. Select a weather attribute you are interested in.\n",
    "                2. Select the type of graph you wish to see.\n",
    "                3. Click the \"Create Graph\" button to confirm your choice. \n",
    "                    Your graph will load promptly with weather information from your previously selected location.'''),\n",
    "            dcc.Markdown(\"### Select an Attribute:\"),\n",
    "            dcc.Dropdown(visual_options,id='options'),\n",
    "            dcc.Markdown(\"### Select a Graph:\"),\n",
    "            dcc.Dropdown(graph_options,id='graph_type'),\n",
    "            html.Button('Create Graph', id='submit-graph', n_clicks=0),\n",
    "            dcc.Markdown(id='caption'),\n",
    "            dcc.Graph(id='visual'),\n",
    "        ]),\n",
    "        \n",
    "        dcc.Tab(label='Weather Predictions', children=[\n",
    "            dcc.Markdown('''\n",
    "                ## Directions: \n",
    "                1. Select a weather attribute you are interested in.\n",
    "                2. Select the number of days into the future you want to be predicted.\n",
    "                3. Click the \"Predict Weather\" button to confirm your choice. \n",
    "                    Your graph will load promptly with weather information from your previously selected location.'''),\n",
    "            dcc.Markdown(\"### Select an Attribute:\"),\n",
    "            dcc.Dropdown(visual_options,id='target'),\n",
    "            dcc.Markdown(\"### Select the Number of Days to Predict:\"),\n",
    "            dcc.Dropdown(n_days, id='n_future'),\n",
    "            # dcc.Dropdown(n_past, id='n_past'),\n",
    "            html.Button('Predict Weather', id='predict-weather', n_clicks=0),\n",
    "            dcc.Markdown(id='pred-caption'),\n",
    "            # dash_table.DataTable(id='pred-table',\n",
    "            #     style_as_list_view=True,\n",
    "            #     style_cell={'padding': '2px'},\n",
    "            #     style_header={\n",
    "            #         'backgroundColor': 'white',\n",
    "            #         'fontWeight': 'bold'\n",
    "            #     },\n",
    "            #     style_cell_conditional=[\n",
    "            #         {'textAlign': 'center'}\n",
    "            #     ],\n",
    "            # ),\n",
    "            dcc.Graph(id='pred-graph'),\n",
    "        ])\n",
    "    ])\n",
    "])\n",
    "    \n",
    "# TAB 1 - CURRENT WEATHER ---------------------------------------------------------------------------------\n",
    "@app.callback(\n",
    "    Output('coords', 'children'),\n",
    "    Output('map', 'children'),\n",
    "    Output('latitude','data'),\n",
    "    Output('longitude','data'),\n",
    "    Output('date','data'),\n",
    "    Input('map', 'clickData'),\n",
    "    Input('map', 'n_clicks'),\n",
    "    prevent_initial_call=True\n",
    ")\n",
    "def map(click_data, n_clicks):\n",
    "    if n_clicks > 0:\n",
    "        coordinates = click_data['latlng']\n",
    "        latitude, longitude = coordinates.values()\n",
    "        # create Patch() instance, add Marker layer at click coordinates\n",
    "        patched = Patch()\n",
    "        # patched=(dl.Marker(position=[latitude,longitude]))\n",
    "        patched.append(dl.Marker(position=[latitude, longitude]))\n",
    "        today = date.today().strftime('%Y%m%d')\n",
    "        n_clicks=0\n",
    "        return json.dumps(coordinates), patched, latitude, longitude, today\n",
    "    \n",
    "@app.callback(\n",
    "    Output('weather','data'),\n",
    "    Output('weather','columns'),\n",
    "    Input('submit','n_clicks'),\n",
    "    State('latitude','data'),\n",
    "    State('longitude','data'),\n",
    "    State('date','data'),\n",
    "    prevent_initial_call=True,\n",
    ")\n",
    "def submit(n_clicks, lat, lng, current_date):\n",
    "    if n_clicks > 0:\n",
    "        if(lat == None or lng == None):\n",
    "            return '##### Please select a location.'\n",
    "        df = get_nasa_power_data(lat, lng, current_date, current_date, for_graph=True)\n",
    "        cols = [{'name': col, 'id': col} for col in df.columns]\n",
    "        weather_df = df.to_dict('records')\n",
    "        return weather_df, cols\n",
    "        \n",
    "# TAB 2 - WEATHER GRAPHS ---------------------------------------------------------------------------------\n",
    "@app.callback(\n",
    "    Output('visual','figure'),\n",
    "    Output('caption','children'),\n",
    "    Input('submit-graph','n_clicks'),\n",
    "    State('options','value'),\n",
    "    State('graph_type','value'),\n",
    "    State('latitude','data'),\n",
    "    State('longitude','data'),\n",
    "    State('date','data'),\n",
    "    prevent_initial_call=True,\n",
    ")\n",
    "def create_graph(n_clicks, attr, graph_type, lat, lng, day):\n",
    "    if n_clicks > 0:\n",
    "        today = date.today().strftime(\"%m-%d-%Y\")\n",
    "        caption = f\" **{attr}** graph for **{today}** at **({round(lat,2)}, {round(lng,2)})**.\"\n",
    "        loop = asyncio.new_event_loop()\n",
    "        graph = loop.run_until_complete(choose_graph(attr, graph_type, lat, lng, day))\n",
    "        return graph, caption\n",
    "\n",
    "    \n",
    "# TAB 3 - WEATHER PREDICTIONS ---------------------------------------------------------------------------------\n",
    "@app.callback(\n",
    "    Output('pred-caption','children'),\n",
    "    Output('pred-graph','figure'),\n",
    "    # Output('pred-table','data'),\n",
    "    Input('predict-weather','n_clicks'),\n",
    "    State('target','value'),\n",
    "    State('n_future','value'),\n",
    "    # State('n_past','n_past'),\n",
    "    State('latitude','data'),\n",
    "    State('longitude','data'),\n",
    "    State('date','data'),\n",
    "    prevent_initial_call=True,\n",
    ")\n",
    "def get_predictions(n_clicks, attr, n_future, lat, lng, date):\n",
    "    if n_clicks > 0:\n",
    "        caption = f\" **{attr}** predictions at **({round(lat,2)}, {round(lng,2)})**.\"\n",
    "        dataset = get_nasa_power_data(lat, lng, \"20220620\", \"20230621\")\n",
    "        real, predicted = run_model(dataset, attr, 50, n_future)\n",
    "        graph = plot_predictions(attr, real, predicted, n_future)\n",
    "        return caption, graph\n",
    "\n",
    "if __name__ == '__main__':\n",
    "    app.run(port=1320,debug=True)"
   ]
  },
  {
   "cell_type": "code",
   "execution_count": 6,
   "id": "369e661b-c416-4b9a-99b5-0de612dbdd5c",
   "metadata": {
    "tags": []
   },
   "outputs": [],
   "source": [
    "visual_options = [\"Temperature (F)\", \"Precipitation (in)\", \"Wind Speed (mph)\", \"Relative Humidity (%)\", \"Cloud Cover (%)\"]\n",
    "graph_options = [\"Hourly Change\", \"Yearly Change\", \"Local Trends\"]\n",
    "\n",
    "async def choose_graph(attr, graph_type, lat, lng, day):\n",
    "    \n",
    "    start_year = (date.today() - timedelta(days=1825)).strftime('%Y')\n",
    "    yesterday = (date.today() - timedelta(days=1)).strftime('%Y%m%d')\n",
    "    \n",
    "    if graph_type == \"Hourly Change\":\n",
    "        hour_df = await get_nasa_power_hourly_data(lat, lng, day)\n",
    "        return plot_hourly(hour_df,attr)\n",
    "        \n",
    "    elif graph_type == \"Yearly Change\":\n",
    "        year_df = await get_nasa_power_hourly_data_years(lat, lng, 2014, 2024)\n",
    "        return plot_yearly(year_df,attr)\n",
    "\n",
    "    else: \n",
    "        return plot_heatmap(attr, lat, lng, day, num_locations=50)"
   ]
  },
  {
   "cell_type": "markdown",
   "id": "65e6140e-ff0e-4a16-ba7a-d6871bec0573",
   "metadata": {},
   "source": [
    "## Complex Visualizations Functions"
   ]
  },
  {
   "cell_type": "code",
   "execution_count": 7,
   "id": "dc1eec01-487a-4a0e-a079-8f2f91716b6c",
   "metadata": {
    "tags": []
   },
   "outputs": [],
   "source": [
    "import numpy as np\n",
    "import aiohttp\n",
    "import asyncio\n",
    "import pandas as pd\n",
    "import nest_asyncio\n",
    "import plotly.express as px\n",
    "from datetime import datetime\n",
    "\n",
    "# Apply nest_asyncio for async execution \n",
    "nest_asyncio.apply()\n",
    "\n",
    "async def fetch_nasa_data(session, lat, lon, start_date, end_date, sem):\n",
    "    \"\"\"\n",
    "    Fetches hourly weather data from the NASA POWER API asynchronously for a given location and time range.\n",
    "    \"\"\"\n",
    "    url = \"https://power.larc.nasa.gov/api/temporal/hourly/point\"\n",
    "    parameters = \"PRECSNO,T2MDEW,PRECTOTCORR,T2M,WS2M,RH2M,CLOUD_AMT\"\n",
    "\n",
    "    params = {\n",
    "        \"parameters\": parameters,\n",
    "        \"community\": \"RE\",\n",
    "        \"longitude\": lon,\n",
    "        \"latitude\": lat,\n",
    "        \"start\": start_date,\n",
    "        \"end\": end_date,\n",
    "        \"format\": \"JSON\"\n",
    "    }\n",
    "\n",
    "    async with sem:  \n",
    "        async with session.get(url, params=params) as response:\n",
    "            if response.status != 200:\n",
    "                print(f\"Error {response.status} for {lat}, {lon}, {start_date}-{end_date}\")\n",
    "                return None\n",
    "            return await response.json()  \n",
    "\n",
    "async def get_nasa_power_hourly_data(lat, lon, date=None):\n",
    "    \"\"\"\n",
    "    Fetches NASA POWER hourly weather data for a single day (default behavior).\n",
    "    \"\"\"\n",
    "    if date is None:\n",
    "        date = datetime.now().strftime(\"%Y%m%d\")\n",
    "\n",
    "    sem = asyncio.Semaphore(5)\n",
    "    async with aiohttp.ClientSession() as session:\n",
    "        data = await fetch_nasa_data(session, lat, lon, date, date, sem)\n",
    "\n",
    "    if data is None or \"properties\" not in data:\n",
    "        print(f\"No data found for {lat}, {lon} on {date}\")\n",
    "        return None\n",
    "\n",
    "    df = pd.DataFrame.from_dict(data[\"properties\"][\"parameter\"], orient=\"index\").T\n",
    "    df.reset_index(inplace=True)\n",
    "    df.rename(columns={\"index\": \"datetime\"}, inplace=True)\n",
    "    \n",
    "    # Convert datetime and clean up\n",
    "    df[\"datetime\"] = pd.to_datetime(df[\"datetime\"], format=\"%Y%m%d%H\", errors=\"coerce\")\n",
    "    df.dropna(subset=[\"datetime\"], inplace=True)\n",
    "    \n",
    "    # Rename columns\n",
    "    df.rename(columns={\n",
    "        \"PRECSNO\": \"Snow_Precipitation\",\n",
    "        \"T2MDEW\": \"Dew_Point_2m\",\n",
    "        \"PRECTOTCORR\": \"Total_Precipitation_mm\",\n",
    "        \"T2M\": \"Temperature_2m_C\",\n",
    "        \"WS2M\": \"Wind_Speed_2m\",\n",
    "        \"RH2M\": \"Relative Humidity (%)\",\n",
    "        \"CLOUD_AMT\" : \"Cloud Cover (%)\",\n",
    "    }, inplace=True)\n",
    "\n",
    "    # Add Lat/Lon\n",
    "    df[\"Latitude\"] = lat\n",
    "    df[\"Longitude\"] = lon\n",
    "\n",
    "    # Convert units\n",
    "    df[\"Precipitation (in)\"] = df[\"Total_Precipitation_mm\"] / 25.4  \n",
    "    df[\"Temperature (F)\"] = (df[\"Temperature_2m_C\"] * 9/5) + 32  \n",
    "    df[\"Wind Speed (mph)\"] = df[\"Wind_Speed_2m\"] * 2.237  \n",
    "\n",
    "    return df\n",
    "\n",
    "async def get_nasa_power_hourly_data_years(lat, lon, start_year, end_year):\n",
    "    \"\"\"\n",
    "    Fetches NASA POWER API hourly data for multiple years in 2-year chunks to prevent timeouts.\n",
    "    \"\"\"\n",
    "    tasks = []\n",
    "    \n",
    "    for year in range(start_year, end_year):  \n",
    "        start_date = f\"{year}0101\"\n",
    "        end_date = f\"{min(year, end_year)}1231\"\n",
    "        # print(f\"Fetching data from {start_date} to {end_date} for {lat}, {lon}\")\n",
    "        tasks.append(get_nasa_power_hourly_data(lat, lon, start_date))\n",
    "\n",
    "    results = await asyncio.gather(*tasks)\n",
    "\n",
    "    all_data = [df for df in results if df is not None]\n",
    "\n",
    "    return pd.concat(all_data, ignore_index=True) if all_data else None\n",
    "\n"
   ]
  },
  {
   "cell_type": "code",
   "execution_count": 8,
   "id": "d8df5ea9-5e5c-4ca3-b183-f6fb26909426",
   "metadata": {
    "tags": []
   },
   "outputs": [],
   "source": [
    "attr_colors = {\"Temperature (F)\": \"red\", \n",
    "         \"Precipitation (in)\":\"blue\", \n",
    "         \"Wind Speed (mph)\":\"green\", \n",
    "         \"Relative Humidity (%)\":\"teal\", \n",
    "         \"Cloud Cover (%)\":\"grey\"}\n",
    "\n",
    "def plot_hourly(df, attr):\n",
    "    fig = px.line(df, x=\"datetime\", y=attr, title=f\"Hourly {attr} Trends\",\n",
    "                  labels={\"datetime\": \"Datetime\"},\n",
    "                  line_shape='linear', color_discrete_sequence=[attr_colors[attr]])\n",
    "    fig.update_layout(xaxis_title=\"Datetime\", yaxis_title=attr, xaxis_tickangle=-45)\n",
    "    return fig"
   ]
  },
  {
   "cell_type": "code",
   "execution_count": 9,
   "id": "3b955837-0909-49e1-acee-ed9298320a32",
   "metadata": {
    "tags": []
   },
   "outputs": [],
   "source": [
    "def plot_yearly(df,attr):\n",
    "    df[\"year\"] = df[\"datetime\"].dt.year\n",
    "    yearly_means = df.groupby(\"year\")[attr].mean().reset_index()\n",
    "    fig = px.bar(yearly_means,\n",
    "                 x=\"year\",\n",
    "                 y=attr,\n",
    "                 color_discrete_sequence=[attr_colors[attr]],\n",
    "                 title=f\"Yearly Average {attr} Trends\",\n",
    "                 labels={\"year\": \"Year\"})\n",
    "    return fig\n"
   ]
  },
  {
   "cell_type": "code",
   "execution_count": 10,
   "id": "e5668842-acb1-4629-8738-4c18ed4fac23",
   "metadata": {
    "tags": []
   },
   "outputs": [],
   "source": [
    "def generate_nearby_locations(lat, lon, radius_miles=15, num_points=10):\n",
    "    \"\"\"\n",
    "    Generates random nearby locations within a radius using NumPy.\n",
    "\n",
    "    Args:\n",
    "    - lat (float): Latitude of the center point.\n",
    "    - lon (float): Longitude of the center point.\n",
    "    - radius_miles (float): Search radius in miles.\n",
    "    - num_points (int): Number of locations to generate.\n",
    "\n",
    "    Returns:\n",
    "    - NumPy array of shape (num_points, 2) with latitude and longitude values.\n",
    "    \"\"\"\n",
    "    # Generate random angles uniformly between 0 and 2π\n",
    "    angles = np.random.uniform(0, 2 * np.pi, num_points)\n",
    "\n",
    "    # Use square root scaling to distribute points uniformly across the circle\n",
    "    distances = radius_miles * np.sqrt(np.random.uniform(0, 1, num_points))\n",
    "\n",
    "    # Convert polar coordinates (distance, angle) to latitude & longitude offsets\n",
    "    delta_lat = (distances / 69) * np.cos(angles)\n",
    "    delta_lon = (distances / (69 * np.cos(np.radians(lat)))) * np.sin(angles)\n",
    "\n",
    "    # Compute new latitudes and longitudes\n",
    "    new_lat = lat + delta_lat\n",
    "    new_lon = lon + delta_lon\n",
    "\n",
    "    return np.column_stack((new_lat, new_lon))"
   ]
  },
  {
   "cell_type": "code",
   "execution_count": 11,
   "id": "7b7bc9d2-7002-4033-a907-23f478f13d10",
   "metadata": {
    "tags": []
   },
   "outputs": [],
   "source": [
    "async def get_nasa_power_data_for_nearby_locations(lat, lon, start_year, end_year, num_locations=10, radius_miles=15):\n",
    "    \"\"\"\n",
    "    Fetches NASA POWER API hourly data for multiple nearby locations over a multi-year period.\n",
    "    Data is retrieved in 2-year intervals to avoid timeouts.\n",
    "\n",
    "    Args:\n",
    "        lat (float): Latitude of the central location.\n",
    "        lon (float): Longitude of the central location.\n",
    "        start_year (int): Start year of the data collection.\n",
    "        end_year (int): End year of the data collection.\n",
    "        num_locations (int, optional): Number of nearby locations to generate. Default is 10.\n",
    "        radius_miles (float, optional): Radius in miles to generate nearby locations. Default is 15.\n",
    "\n",
    "    Returns:\n",
    "        pd.DataFrame or None: A Pandas DataFrame containing weather data for all locations and years, or None if no data is retrieved.\n",
    "    \"\"\"\n",
    "    locations = generate_nearby_locations(lat, lon, radius_miles, num_locations)\n",
    "    tasks = []\n",
    "\n",
    "    for year in range(start_year, end_year, 2):  \n",
    "        print(f\"Fetching data for {year}-{year+1} at {num_locations} locations...\")\n",
    "        for location in locations:\n",
    "            tasks.append(get_nasa_power_hourly_data_ten_years(location[0], location[1], year, year + 2))\n",
    "\n",
    "    results = await asyncio.gather(*tasks)  \n",
    "\n",
    "    all_data = [df for df in results if df is not None]\n",
    "\n",
    "    return pd.concat(all_data, ignore_index=True) if all_data else None\n",
    "\n",
    "async def get_nasa_power_data_for_one_day_nearby(lat, lon, date=None, num_locations=10, radius_miles=15):\n",
    "    \"\"\"\n",
    "    Fetches NASA POWER API hourly data for multiple nearby locations for a single day.\n",
    "\n",
    "    Args:\n",
    "        lat (float): Latitude of the central location.\n",
    "        lon (float): Longitude of the central location.\n",
    "        date (str, optional): Date in \"YYYYMMDD\" format. Defaults to today.\n",
    "        num_locations (int, optional): Number of nearby locations to generate. Default is 10.\n",
    "        radius_miles (float, optional): Radius in miles to generate nearby locations. Default is 15.\n",
    "\n",
    "    Returns:\n",
    "        pd.DataFrame or None: A Pandas DataFrame containing weather data for all locations, or None if no data is retrieved.\n",
    "    \"\"\"\n",
    "    if date is None:\n",
    "        date = datetime.now().strftime(\"%Y%m%d\")\n",
    "\n",
    "    locations = generate_nearby_locations(lat, lon, radius_miles, num_locations)\n",
    "    tasks = [get_nasa_power_hourly_data(location[0], location[1], date) for location in locations]\n",
    "\n",
    "    results = await asyncio.gather(*tasks)\n",
    "\n",
    "    all_data = [df for df in results if df is not None]\n",
    "\n",
    "    return pd.concat(all_data, ignore_index=True) if all_data else None\n"
   ]
  },
  {
   "cell_type": "code",
   "execution_count": 12,
   "id": "457887bb-015a-4da8-9b76-750c5652752a",
   "metadata": {
    "tags": []
   },
   "outputs": [],
   "source": [
    "def plot_heatmap(attr, lat, lon, date=None, num_locations=50, radius_miles=15):\n",
    "    \"\"\"\n",
    "    Fetches weather data for locations in a radius and plots temperature & precipitation heat maps\n",
    "    with a square-shaped view.\n",
    "    \"\"\"\n",
    "    locations = generate_nearby_locations(lat, lon, radius_miles, num_locations)\n",
    "    \n",
    "    # Fetch weather data\n",
    "    weather_data = asyncio.run(get_nasa_power_data_for_one_day_nearby(lat, lon, date, num_locations, radius_miles))\n",
    "    if weather_data is None or weather_data.empty:\n",
    "        print(\"No data retrieved.\")\n",
    "        return\n",
    "\n",
    "    # Force a square bounding box\n",
    "    lat_margin = radius_miles / 69  # 1 degree latitude ≈ 69 miles\n",
    "    lon_margin = radius_miles / (69 * np.cos(np.radians(lat)))  # Adjust for longitude shrinking\n",
    "\n",
    "    min_lat, max_lat = lat - lat_margin, lat + lat_margin\n",
    "    min_lon, max_lon = lon - lon_margin, lon + lon_margin\n",
    "  \n",
    "    fig_temp = px.scatter_mapbox(\n",
    "        weather_data, lat=\"Latitude\", lon=\"Longitude\", color=attr,\n",
    "        title=f\"{attr} in Nearby Locations\"\n",
    "    )\n",
    "    fig_temp.update_layout(\n",
    "        mapbox_style=\"carto-positron\",\n",
    "        autosize=True \n",
    "    )\n",
    "\n",
    "    return fig_temp\n"
   ]
  },
  {
   "cell_type": "markdown",
   "id": "e9928a0c-317e-4d80-8f5c-324feb5481d9",
   "metadata": {},
   "source": [
    "# Keras Model to Predict Upcoming Weather"
   ]
  },
  {
   "cell_type": "code",
   "execution_count": 13,
   "id": "f13717a5-2e5d-4164-bfa4-d34c71e10b5a",
   "metadata": {
    "tags": []
   },
   "outputs": [],
   "source": [
    "import seaborn as sns\n",
    "import numpy as np\n",
    "import pandas as pd\n",
    "import tensorflow as tf\n",
    "import keras\n",
    "#from keras import layers, losses\n",
    "from keras.models import Sequential\n",
    "from keras.layers import LSTM, Dense,Dropout, Bidirectional\n",
    "from sklearn.preprocessing import MinMaxScaler\n",
    "import datetime\n",
    "import requests\n",
    "\"\"\"\n",
    "from tensorflow.python.keras.models import Sequential\n",
    "from tensorflow.python.keras.layers import Dense, Dropout\n",
    "from tensorflow.python.keras.layers.recurrent import LSTM\n",
    "\"\"\"\n",
    "import matplotlib.pyplot as plt\n",
    "from plotly import express as px\n",
    "from sklearn.model_selection import train_test_split\n",
    "from sklearn.model_selection import cross_val_score\n",
    "from sklearn.metrics import accuracy_score, confusion_matrix, ConfusionMatrixDisplay, mean_absolute_error, r2_score\n",
    "from sklearn.linear_model import LogisticRegression\n",
    "from sklearn.svm import SVC\n",
    "from sklearn import preprocessing, tree\n",
    "from sklearn.preprocessing import MinMaxScaler\n",
    "from sklearn.preprocessing import StandardScaler"
   ]
  },
  {
   "cell_type": "code",
   "execution_count": 51,
   "id": "9640c310-b5cd-4662-b10f-23009a492593",
   "metadata": {
    "tags": []
   },
   "outputs": [],
   "source": [
    "# Function that takes a feature, and runs a model to predict the next 4 days of that feature based on 30 days of previous weather\n",
    "def run_model(dataset, feature, n_past=50, n_future=7):\n",
    "    feature = feature\n",
    "    dataset = dataset.dropna(subset=[feature])\n",
    "    dataset = dataset.reset_index(drop=True)\n",
    "    training_set = dataset[[feature]].values\n",
    "\n",
    "    sc = MinMaxScaler(feature_range=(0,1))\n",
    "    training_set_scaled = sc.fit_transform(training_set)\n",
    "\n",
    "    x_train = []\n",
    "    y_train = []\n",
    "\n",
    "    n_past = n_past # Number of days to use as training data\n",
    "    n_future = n_future # Number of days into future to predict feature\n",
    "\n",
    "    for i in range(0,len(training_set_scaled)-n_past-n_future+1):\n",
    "        x_train.append(training_set_scaled[i : i + n_past , 0])\n",
    "        y_train.append(training_set_scaled[i + n_past : i + n_past + n_future , 0 ])\n",
    "    x_train , y_train = np.array(x_train), np.array(y_train)\n",
    "    x_train = np.reshape(x_train, (x_train.shape[0] , x_train.shape[1], 1) )\n",
    "\n",
    "    model = Sequential([\n",
    "        Bidirectional(LSTM(units=n_past, return_sequences=True, input_shape=(x_train.shape[1], 1))),\n",
    "        Dropout(0.2),\n",
    "        LSTM(units=n_past, return_sequences=True),\n",
    "        Dropout(0.2),\n",
    "        LSTM(units=n_past, return_sequences=True),\n",
    "        Dropout(0.2),\n",
    "        LSTM(units=n_past),\n",
    "        Dropout(0.2),\n",
    "        Dense(units=n_future, activation='linear')\n",
    "    ])\n",
    "    model.compile(optimizer='adam', loss='mean_squared_error',metrics=['acc'])\n",
    "    model.fit(x_train, y_train, epochs=20, batch_size=32)\n",
    "\n",
    "    testdataset = dataset.copy()\n",
    "    testdataset = testdataset[[feature]].iloc[:n_past].values\n",
    "    # return n_past most recent temperatures \n",
    "    real_temperature = dataset.copy().sort_values(\"date\", ascending=False).iloc[-n_past:-1]\n",
    "    real_temperature = real_temperature[[\"date\",feature]]\n",
    "    # real_temperature = real_temperature[[\"date\",feature]].sort_values(\"date\", ascending=False).iloc[-n_past:-1].values\n",
    "    testing = sc.transform(testdataset)\n",
    "    testing = np.array(testing)\n",
    "    testing = np.reshape(testing,(testing.shape[1],testing.shape[0],1))\n",
    "\n",
    "    predicted_temperature = model.predict(testing)\n",
    "    predicted_temperature = sc.inverse_transform(predicted_temperature)\n",
    "    predicted_temperature = np.reshape(predicted_temperature,(predicted_temperature.shape[1],predicted_temperature.shape[0]))\n",
    "    return real_temperature, predicted_temperature\n",
    "\n",
    "# real_temperature, predicted_temperature = run_model(dataset2, \"Temperature(F)\", 300, 30)"
   ]
  },
  {
   "cell_type": "code",
   "execution_count": 52,
   "id": "4f3660ac-83b7-4337-8cc3-ae3a20195400",
   "metadata": {
    "tags": []
   },
   "outputs": [],
   "source": [
    "from datetime import date, datetime, timedelta\n",
    "import plotly.express as px\n",
    "\n",
    "# list for dropdown menu\n",
    "n_days = [3,5,10,20,30]\n",
    "\n",
    "def plot_predictions(attr, real, predicted, n_future):\n",
    "    real[\"Label\"] = \"Real\"\n",
    "    new_dates = [real[\"date\"].iloc[0] + timedelta(days=x) for x in range(1,n_future+1)]\n",
    "    new_rows = pd.DataFrame({\"date\": new_dates,\n",
    "                             attr: predicted.flatten(), \n",
    "                             \"Label\": \"Predicted\"})\n",
    "    df = pd.concat([real, new_rows], ignore_index=True)\n",
    "    fig = px.line(df,x=\"date\",y=attr,color=\"Label\")\n",
    "    return fig"
   ]
  },
  {
   "cell_type": "code",
   "execution_count": 46,
   "id": "8bd0124b-db67-4123-ac9e-670263c3b8bf",
   "metadata": {
    "collapsed": true,
    "jupyter": {
     "outputs_hidden": true
    },
    "tags": []
   },
   "outputs": [
    {
     "name": "stdout",
     "output_type": "stream",
     "text": [
      "Epoch 1/20\n"
     ]
    },
    {
     "name": "stderr",
     "output_type": "stream",
     "text": [
      "C:\\Users\\littl\\anaconda3\\envs\\PIC16B-25W\\Lib\\site-packages\\keras\\src\\layers\\rnn\\rnn.py:200: UserWarning:\n",
      "\n",
      "Do not pass an `input_shape`/`input_dim` argument to a layer. When using Sequential models, prefer using an `Input(shape)` object as the first layer in the model instead.\n",
      "\n"
     ]
    },
    {
     "name": "stdout",
     "output_type": "stream",
     "text": [
      "\u001b[1m9/9\u001b[0m \u001b[32m━━━━━━━━━━━━━━━━━━━━\u001b[0m\u001b[37m\u001b[0m \u001b[1m7s\u001b[0m 67ms/step - acc: 0.0240 - loss: 0.1661\n",
      "Epoch 2/20\n",
      "\u001b[1m9/9\u001b[0m \u001b[32m━━━━━━━━━━━━━━━━━━━━\u001b[0m\u001b[37m\u001b[0m \u001b[1m1s\u001b[0m 65ms/step - acc: 0.0260 - loss: 0.0939\n",
      "Epoch 3/20\n",
      "\u001b[1m9/9\u001b[0m \u001b[32m━━━━━━━━━━━━━━━━━━━━\u001b[0m\u001b[37m\u001b[0m \u001b[1m1s\u001b[0m 61ms/step - acc: 0.0527 - loss: 0.0519\n",
      "Epoch 4/20\n",
      "\u001b[1m9/9\u001b[0m \u001b[32m━━━━━━━━━━━━━━━━━━━━\u001b[0m\u001b[37m\u001b[0m \u001b[1m1s\u001b[0m 66ms/step - acc: 0.0273 - loss: 0.0406\n",
      "Epoch 5/20\n",
      "\u001b[1m9/9\u001b[0m \u001b[32m━━━━━━━━━━━━━━━━━━━━\u001b[0m\u001b[37m\u001b[0m \u001b[1m1s\u001b[0m 60ms/step - acc: 0.0279 - loss: 0.0350\n",
      "Epoch 6/20\n",
      "\u001b[1m9/9\u001b[0m \u001b[32m━━━━━━━━━━━━━━━━━━━━\u001b[0m\u001b[37m\u001b[0m \u001b[1m1s\u001b[0m 79ms/step - acc: 0.0172 - loss: 0.0304\n",
      "Epoch 7/20\n",
      "\u001b[1m9/9\u001b[0m \u001b[32m━━━━━━━━━━━━━━━━━━━━\u001b[0m\u001b[37m\u001b[0m \u001b[1m1s\u001b[0m 79ms/step - acc: 0.0404 - loss: 0.0306\n",
      "Epoch 8/20\n",
      "\u001b[1m9/9\u001b[0m \u001b[32m━━━━━━━━━━━━━━━━━━━━\u001b[0m\u001b[37m\u001b[0m \u001b[1m1s\u001b[0m 75ms/step - acc: 0.0435 - loss: 0.0262\n",
      "Epoch 9/20\n",
      "\u001b[1m9/9\u001b[0m \u001b[32m━━━━━━━━━━━━━━━━━━━━\u001b[0m\u001b[37m\u001b[0m \u001b[1m1s\u001b[0m 76ms/step - acc: 0.0329 - loss: 0.0247\n",
      "Epoch 10/20\n",
      "\u001b[1m9/9\u001b[0m \u001b[32m━━━━━━━━━━━━━━━━━━━━\u001b[0m\u001b[37m\u001b[0m \u001b[1m1s\u001b[0m 70ms/step - acc: 0.0351 - loss: 0.0242\n",
      "Epoch 11/20\n",
      "\u001b[1m9/9\u001b[0m \u001b[32m━━━━━━━━━━━━━━━━━━━━\u001b[0m\u001b[37m\u001b[0m \u001b[1m1s\u001b[0m 68ms/step - acc: 0.0581 - loss: 0.0242\n",
      "Epoch 12/20\n",
      "\u001b[1m9/9\u001b[0m \u001b[32m━━━━━━━━━━━━━━━━━━━━\u001b[0m\u001b[37m\u001b[0m \u001b[1m1s\u001b[0m 65ms/step - acc: 0.0416 - loss: 0.0224\n",
      "Epoch 13/20\n",
      "\u001b[1m9/9\u001b[0m \u001b[32m━━━━━━━━━━━━━━━━━━━━\u001b[0m\u001b[37m\u001b[0m \u001b[1m1s\u001b[0m 65ms/step - acc: 0.0544 - loss: 0.0205\n",
      "Epoch 14/20\n",
      "\u001b[1m9/9\u001b[0m \u001b[32m━━━━━━━━━━━━━━━━━━━━\u001b[0m\u001b[37m\u001b[0m \u001b[1m1s\u001b[0m 66ms/step - acc: 0.0246 - loss: 0.0211\n",
      "Epoch 15/20\n",
      "\u001b[1m9/9\u001b[0m \u001b[32m━━━━━━━━━━━━━━━━━━━━\u001b[0m\u001b[37m\u001b[0m \u001b[1m1s\u001b[0m 64ms/step - acc: 0.0502 - loss: 0.0234\n",
      "Epoch 16/20\n",
      "\u001b[1m9/9\u001b[0m \u001b[32m━━━━━━━━━━━━━━━━━━━━\u001b[0m\u001b[37m\u001b[0m \u001b[1m1s\u001b[0m 64ms/step - acc: 0.0634 - loss: 0.0224\n",
      "Epoch 17/20\n",
      "\u001b[1m9/9\u001b[0m \u001b[32m━━━━━━━━━━━━━━━━━━━━\u001b[0m\u001b[37m\u001b[0m \u001b[1m1s\u001b[0m 65ms/step - acc: 0.0106 - loss: 0.0205\n",
      "Epoch 18/20\n",
      "\u001b[1m9/9\u001b[0m \u001b[32m━━━━━━━━━━━━━━━━━━━━\u001b[0m\u001b[37m\u001b[0m \u001b[1m1s\u001b[0m 81ms/step - acc: 0.0311 - loss: 0.0200\n",
      "Epoch 19/20\n",
      "\u001b[1m9/9\u001b[0m \u001b[32m━━━━━━━━━━━━━━━━━━━━\u001b[0m\u001b[37m\u001b[0m \u001b[1m1s\u001b[0m 62ms/step - acc: 0.0062 - loss: 0.0191\n",
      "Epoch 20/20\n",
      "\u001b[1m9/9\u001b[0m \u001b[32m━━━━━━━━━━━━━━━━━━━━\u001b[0m\u001b[37m\u001b[0m \u001b[1m1s\u001b[0m 60ms/step - acc: 0.0389 - loss: 0.0197\n",
      "WARNING:tensorflow:6 out of the last 6 calls to <function TensorFlowTrainer.make_predict_function.<locals>.one_step_on_data_distributed at 0x000001EA9E168220> triggered tf.function retracing. Tracing is expensive and the excessive number of tracings could be due to (1) creating @tf.function repeatedly in a loop, (2) passing tensors with different shapes, (3) passing Python objects instead of tensors. For (1), please define your @tf.function outside of the loop. For (2), @tf.function has reduce_retracing=True option that can avoid unnecessary retracing. For (3), please refer to https://www.tensorflow.org/guide/function#controlling_retracing and https://www.tensorflow.org/api_docs/python/tf/function for  more details.\n",
      "\u001b[1m1/1\u001b[0m \u001b[32m━━━━━━━━━━━━━━━━━━━━\u001b[0m\u001b[37m\u001b[0m \u001b[1m1s\u001b[0m 712ms/step\n",
      "        date  Temperature (F) Label\n",
      "0 2022-08-08           80.204  Real\n",
      "1 2022-08-07           80.546  Real\n",
      "2 2022-08-06           78.278  Real\n",
      "3 2022-08-05           76.028  Real\n",
      "4 2022-08-04           74.408  Real\n"
     ]
    },
    {
     "data": {
      "application/vnd.plotly.v1+json": {
       "config": {
        "plotlyServerURL": "https://plot.ly"
       },
       "data": [
        {
         "hovertemplate": "Label=Real<br>date=%{x}<br>Temperature (F)=%{y}<extra></extra>",
         "legendgroup": "Real",
         "line": {
          "color": "#636efa",
          "dash": "solid"
         },
         "marker": {
          "symbol": "circle"
         },
         "mode": "lines",
         "name": "Real",
         "orientation": "v",
         "showlegend": true,
         "type": "scatter",
         "x": [
          "2022-08-08T00:00:00",
          "2022-08-07T00:00:00",
          "2022-08-06T00:00:00",
          "2022-08-05T00:00:00",
          "2022-08-04T00:00:00",
          "2022-08-03T00:00:00",
          "2022-08-02T00:00:00",
          "2022-08-01T00:00:00",
          "2022-07-31T00:00:00",
          "2022-07-30T00:00:00",
          "2022-07-29T00:00:00",
          "2022-07-28T00:00:00",
          "2022-07-27T00:00:00",
          "2022-07-26T00:00:00",
          "2022-07-25T00:00:00",
          "2022-07-24T00:00:00",
          "2022-07-23T00:00:00",
          "2022-07-22T00:00:00",
          "2022-07-21T00:00:00",
          "2022-07-20T00:00:00",
          "2022-07-19T00:00:00",
          "2022-07-18T00:00:00",
          "2022-07-17T00:00:00",
          "2022-07-16T00:00:00",
          "2022-07-15T00:00:00",
          "2022-07-14T00:00:00",
          "2022-07-13T00:00:00",
          "2022-07-12T00:00:00",
          "2022-07-11T00:00:00",
          "2022-07-10T00:00:00",
          "2022-07-09T00:00:00",
          "2022-07-08T00:00:00",
          "2022-07-07T00:00:00",
          "2022-07-06T00:00:00",
          "2022-07-05T00:00:00",
          "2022-07-04T00:00:00",
          "2022-07-03T00:00:00",
          "2022-07-02T00:00:00",
          "2022-07-01T00:00:00",
          "2022-06-30T00:00:00",
          "2022-06-29T00:00:00",
          "2022-06-28T00:00:00",
          "2022-06-27T00:00:00",
          "2022-06-26T00:00:00",
          "2022-06-25T00:00:00",
          "2022-06-24T00:00:00",
          "2022-06-23T00:00:00",
          "2022-06-22T00:00:00",
          "2022-06-21T00:00:00"
         ],
         "xaxis": "x",
         "y": [
          80.20400000000001,
          80.54599999999999,
          78.278,
          76.028,
          74.408,
          76.74799999999999,
          76.69399999999999,
          76.69399999999999,
          75.146,
          73.958,
          75.812,
          74.732,
          72.86,
          72.878,
          72.158,
          71.492,
          73.778,
          75.398,
          77.864,
          76.658,
          79.106,
          78.926,
          77.48599999999999,
          79.16,
          77.774,
          73.13,
          70.916,
          69.386,
          74.462,
          76.04599999999999,
          74.462,
          72.14,
          72.338,
          70.232,
          69.836,
          68.324,
          66.77600000000001,
          70.55600000000001,
          73.004,
          74.84,
          77.612,
          80.54599999999999,
          81.78800000000001,
          78.35,
          77.126,
          76.928,
          77.324,
          77.43199999999999,
          74.894
         ],
         "yaxis": "y"
        },
        {
         "hovertemplate": "Label=Predicted<br>date=%{x}<br>Temperature (F)=%{y}<extra></extra>",
         "legendgroup": "Predicted",
         "line": {
          "color": "#EF553B",
          "dash": "solid"
         },
         "marker": {
          "symbol": "circle"
         },
         "mode": "lines",
         "name": "Predicted",
         "orientation": "v",
         "showlegend": true,
         "type": "scatter",
         "x": [
          "2022-08-09T00:00:00",
          "2022-08-10T00:00:00",
          "2022-08-11T00:00:00",
          "2022-08-12T00:00:00",
          "2022-08-13T00:00:00",
          "2022-08-14T00:00:00",
          "2022-08-15T00:00:00",
          "2022-08-16T00:00:00",
          "2022-08-17T00:00:00",
          "2022-08-18T00:00:00",
          "2022-08-19T00:00:00",
          "2022-08-20T00:00:00",
          "2022-08-21T00:00:00",
          "2022-08-22T00:00:00",
          "2022-08-23T00:00:00",
          "2022-08-24T00:00:00",
          "2022-08-25T00:00:00",
          "2022-08-26T00:00:00",
          "2022-08-27T00:00:00",
          "2022-08-28T00:00:00",
          "2022-08-29T00:00:00",
          "2022-08-30T00:00:00",
          "2022-08-31T00:00:00",
          "2022-09-01T00:00:00",
          "2022-09-02T00:00:00",
          "2022-09-03T00:00:00",
          "2022-09-04T00:00:00",
          "2022-09-05T00:00:00",
          "2022-09-06T00:00:00",
          "2022-09-07T00:00:00"
         ],
         "xaxis": "x",
         "y": [
          77.84393310546875,
          76.28609466552734,
          76.01785278320312,
          76.13394165039062,
          77.12284851074219,
          76.33942413330078,
          76.55590057373047,
          75.30286407470703,
          74.77764129638672,
          74.92871856689453,
          74.19017028808594,
          75.58946990966797,
          75.87944030761719,
          75.4014663696289,
          74.91828918457031,
          75.21141815185547,
          74.30826568603516,
          73.69670104980469,
          73.79217529296875,
          72.72565460205078,
          72.55255126953125,
          71.81437683105469,
          73.50528717041016,
          72.53694915771484,
          72.55775451660156,
          71.46880340576172,
          71.192138671875,
          70.26531982421875,
          72.084716796875,
          69.52568054199219
         ],
         "yaxis": "y"
        }
       ],
       "layout": {
        "autosize": true,
        "legend": {
         "title": {
          "text": "Label"
         },
         "tracegroupgap": 0
        },
        "margin": {
         "t": 60
        },
        "template": {
         "data": {
          "bar": [
           {
            "error_x": {
             "color": "#2a3f5f"
            },
            "error_y": {
             "color": "#2a3f5f"
            },
            "marker": {
             "line": {
              "color": "#E5ECF6",
              "width": 0.5
             },
             "pattern": {
              "fillmode": "overlay",
              "size": 10,
              "solidity": 0.2
             }
            },
            "type": "bar"
           }
          ],
          "barpolar": [
           {
            "marker": {
             "line": {
              "color": "#E5ECF6",
              "width": 0.5
             },
             "pattern": {
              "fillmode": "overlay",
              "size": 10,
              "solidity": 0.2
             }
            },
            "type": "barpolar"
           }
          ],
          "carpet": [
           {
            "aaxis": {
             "endlinecolor": "#2a3f5f",
             "gridcolor": "white",
             "linecolor": "white",
             "minorgridcolor": "white",
             "startlinecolor": "#2a3f5f"
            },
            "baxis": {
             "endlinecolor": "#2a3f5f",
             "gridcolor": "white",
             "linecolor": "white",
             "minorgridcolor": "white",
             "startlinecolor": "#2a3f5f"
            },
            "type": "carpet"
           }
          ],
          "choropleth": [
           {
            "colorbar": {
             "outlinewidth": 0,
             "ticks": ""
            },
            "type": "choropleth"
           }
          ],
          "contour": [
           {
            "colorbar": {
             "outlinewidth": 0,
             "ticks": ""
            },
            "colorscale": [
             [
              0,
              "#0d0887"
             ],
             [
              0.1111111111111111,
              "#46039f"
             ],
             [
              0.2222222222222222,
              "#7201a8"
             ],
             [
              0.3333333333333333,
              "#9c179e"
             ],
             [
              0.4444444444444444,
              "#bd3786"
             ],
             [
              0.5555555555555556,
              "#d8576b"
             ],
             [
              0.6666666666666666,
              "#ed7953"
             ],
             [
              0.7777777777777778,
              "#fb9f3a"
             ],
             [
              0.8888888888888888,
              "#fdca26"
             ],
             [
              1,
              "#f0f921"
             ]
            ],
            "type": "contour"
           }
          ],
          "contourcarpet": [
           {
            "colorbar": {
             "outlinewidth": 0,
             "ticks": ""
            },
            "type": "contourcarpet"
           }
          ],
          "heatmap": [
           {
            "colorbar": {
             "outlinewidth": 0,
             "ticks": ""
            },
            "colorscale": [
             [
              0,
              "#0d0887"
             ],
             [
              0.1111111111111111,
              "#46039f"
             ],
             [
              0.2222222222222222,
              "#7201a8"
             ],
             [
              0.3333333333333333,
              "#9c179e"
             ],
             [
              0.4444444444444444,
              "#bd3786"
             ],
             [
              0.5555555555555556,
              "#d8576b"
             ],
             [
              0.6666666666666666,
              "#ed7953"
             ],
             [
              0.7777777777777778,
              "#fb9f3a"
             ],
             [
              0.8888888888888888,
              "#fdca26"
             ],
             [
              1,
              "#f0f921"
             ]
            ],
            "type": "heatmap"
           }
          ],
          "heatmapgl": [
           {
            "colorbar": {
             "outlinewidth": 0,
             "ticks": ""
            },
            "colorscale": [
             [
              0,
              "#0d0887"
             ],
             [
              0.1111111111111111,
              "#46039f"
             ],
             [
              0.2222222222222222,
              "#7201a8"
             ],
             [
              0.3333333333333333,
              "#9c179e"
             ],
             [
              0.4444444444444444,
              "#bd3786"
             ],
             [
              0.5555555555555556,
              "#d8576b"
             ],
             [
              0.6666666666666666,
              "#ed7953"
             ],
             [
              0.7777777777777778,
              "#fb9f3a"
             ],
             [
              0.8888888888888888,
              "#fdca26"
             ],
             [
              1,
              "#f0f921"
             ]
            ],
            "type": "heatmapgl"
           }
          ],
          "histogram": [
           {
            "marker": {
             "pattern": {
              "fillmode": "overlay",
              "size": 10,
              "solidity": 0.2
             }
            },
            "type": "histogram"
           }
          ],
          "histogram2d": [
           {
            "colorbar": {
             "outlinewidth": 0,
             "ticks": ""
            },
            "colorscale": [
             [
              0,
              "#0d0887"
             ],
             [
              0.1111111111111111,
              "#46039f"
             ],
             [
              0.2222222222222222,
              "#7201a8"
             ],
             [
              0.3333333333333333,
              "#9c179e"
             ],
             [
              0.4444444444444444,
              "#bd3786"
             ],
             [
              0.5555555555555556,
              "#d8576b"
             ],
             [
              0.6666666666666666,
              "#ed7953"
             ],
             [
              0.7777777777777778,
              "#fb9f3a"
             ],
             [
              0.8888888888888888,
              "#fdca26"
             ],
             [
              1,
              "#f0f921"
             ]
            ],
            "type": "histogram2d"
           }
          ],
          "histogram2dcontour": [
           {
            "colorbar": {
             "outlinewidth": 0,
             "ticks": ""
            },
            "colorscale": [
             [
              0,
              "#0d0887"
             ],
             [
              0.1111111111111111,
              "#46039f"
             ],
             [
              0.2222222222222222,
              "#7201a8"
             ],
             [
              0.3333333333333333,
              "#9c179e"
             ],
             [
              0.4444444444444444,
              "#bd3786"
             ],
             [
              0.5555555555555556,
              "#d8576b"
             ],
             [
              0.6666666666666666,
              "#ed7953"
             ],
             [
              0.7777777777777778,
              "#fb9f3a"
             ],
             [
              0.8888888888888888,
              "#fdca26"
             ],
             [
              1,
              "#f0f921"
             ]
            ],
            "type": "histogram2dcontour"
           }
          ],
          "mesh3d": [
           {
            "colorbar": {
             "outlinewidth": 0,
             "ticks": ""
            },
            "type": "mesh3d"
           }
          ],
          "parcoords": [
           {
            "line": {
             "colorbar": {
              "outlinewidth": 0,
              "ticks": ""
             }
            },
            "type": "parcoords"
           }
          ],
          "pie": [
           {
            "automargin": true,
            "type": "pie"
           }
          ],
          "scatter": [
           {
            "fillpattern": {
             "fillmode": "overlay",
             "size": 10,
             "solidity": 0.2
            },
            "type": "scatter"
           }
          ],
          "scatter3d": [
           {
            "line": {
             "colorbar": {
              "outlinewidth": 0,
              "ticks": ""
             }
            },
            "marker": {
             "colorbar": {
              "outlinewidth": 0,
              "ticks": ""
             }
            },
            "type": "scatter3d"
           }
          ],
          "scattercarpet": [
           {
            "marker": {
             "colorbar": {
              "outlinewidth": 0,
              "ticks": ""
             }
            },
            "type": "scattercarpet"
           }
          ],
          "scattergeo": [
           {
            "marker": {
             "colorbar": {
              "outlinewidth": 0,
              "ticks": ""
             }
            },
            "type": "scattergeo"
           }
          ],
          "scattergl": [
           {
            "marker": {
             "colorbar": {
              "outlinewidth": 0,
              "ticks": ""
             }
            },
            "type": "scattergl"
           }
          ],
          "scattermapbox": [
           {
            "marker": {
             "colorbar": {
              "outlinewidth": 0,
              "ticks": ""
             }
            },
            "type": "scattermapbox"
           }
          ],
          "scatterpolar": [
           {
            "marker": {
             "colorbar": {
              "outlinewidth": 0,
              "ticks": ""
             }
            },
            "type": "scatterpolar"
           }
          ],
          "scatterpolargl": [
           {
            "marker": {
             "colorbar": {
              "outlinewidth": 0,
              "ticks": ""
             }
            },
            "type": "scatterpolargl"
           }
          ],
          "scatterternary": [
           {
            "marker": {
             "colorbar": {
              "outlinewidth": 0,
              "ticks": ""
             }
            },
            "type": "scatterternary"
           }
          ],
          "surface": [
           {
            "colorbar": {
             "outlinewidth": 0,
             "ticks": ""
            },
            "colorscale": [
             [
              0,
              "#0d0887"
             ],
             [
              0.1111111111111111,
              "#46039f"
             ],
             [
              0.2222222222222222,
              "#7201a8"
             ],
             [
              0.3333333333333333,
              "#9c179e"
             ],
             [
              0.4444444444444444,
              "#bd3786"
             ],
             [
              0.5555555555555556,
              "#d8576b"
             ],
             [
              0.6666666666666666,
              "#ed7953"
             ],
             [
              0.7777777777777778,
              "#fb9f3a"
             ],
             [
              0.8888888888888888,
              "#fdca26"
             ],
             [
              1,
              "#f0f921"
             ]
            ],
            "type": "surface"
           }
          ],
          "table": [
           {
            "cells": {
             "fill": {
              "color": "#EBF0F8"
             },
             "line": {
              "color": "white"
             }
            },
            "header": {
             "fill": {
              "color": "#C8D4E3"
             },
             "line": {
              "color": "white"
             }
            },
            "type": "table"
           }
          ]
         },
         "layout": {
          "annotationdefaults": {
           "arrowcolor": "#2a3f5f",
           "arrowhead": 0,
           "arrowwidth": 1
          },
          "autotypenumbers": "strict",
          "coloraxis": {
           "colorbar": {
            "outlinewidth": 0,
            "ticks": ""
           }
          },
          "colorscale": {
           "diverging": [
            [
             0,
             "#8e0152"
            ],
            [
             0.1,
             "#c51b7d"
            ],
            [
             0.2,
             "#de77ae"
            ],
            [
             0.3,
             "#f1b6da"
            ],
            [
             0.4,
             "#fde0ef"
            ],
            [
             0.5,
             "#f7f7f7"
            ],
            [
             0.6,
             "#e6f5d0"
            ],
            [
             0.7,
             "#b8e186"
            ],
            [
             0.8,
             "#7fbc41"
            ],
            [
             0.9,
             "#4d9221"
            ],
            [
             1,
             "#276419"
            ]
           ],
           "sequential": [
            [
             0,
             "#0d0887"
            ],
            [
             0.1111111111111111,
             "#46039f"
            ],
            [
             0.2222222222222222,
             "#7201a8"
            ],
            [
             0.3333333333333333,
             "#9c179e"
            ],
            [
             0.4444444444444444,
             "#bd3786"
            ],
            [
             0.5555555555555556,
             "#d8576b"
            ],
            [
             0.6666666666666666,
             "#ed7953"
            ],
            [
             0.7777777777777778,
             "#fb9f3a"
            ],
            [
             0.8888888888888888,
             "#fdca26"
            ],
            [
             1,
             "#f0f921"
            ]
           ],
           "sequentialminus": [
            [
             0,
             "#0d0887"
            ],
            [
             0.1111111111111111,
             "#46039f"
            ],
            [
             0.2222222222222222,
             "#7201a8"
            ],
            [
             0.3333333333333333,
             "#9c179e"
            ],
            [
             0.4444444444444444,
             "#bd3786"
            ],
            [
             0.5555555555555556,
             "#d8576b"
            ],
            [
             0.6666666666666666,
             "#ed7953"
            ],
            [
             0.7777777777777778,
             "#fb9f3a"
            ],
            [
             0.8888888888888888,
             "#fdca26"
            ],
            [
             1,
             "#f0f921"
            ]
           ]
          },
          "colorway": [
           "#636efa",
           "#EF553B",
           "#00cc96",
           "#ab63fa",
           "#FFA15A",
           "#19d3f3",
           "#FF6692",
           "#B6E880",
           "#FF97FF",
           "#FECB52"
          ],
          "font": {
           "color": "#2a3f5f"
          },
          "geo": {
           "bgcolor": "white",
           "lakecolor": "white",
           "landcolor": "#E5ECF6",
           "showlakes": true,
           "showland": true,
           "subunitcolor": "white"
          },
          "hoverlabel": {
           "align": "left"
          },
          "hovermode": "closest",
          "mapbox": {
           "style": "light"
          },
          "paper_bgcolor": "white",
          "plot_bgcolor": "#E5ECF6",
          "polar": {
           "angularaxis": {
            "gridcolor": "white",
            "linecolor": "white",
            "ticks": ""
           },
           "bgcolor": "#E5ECF6",
           "radialaxis": {
            "gridcolor": "white",
            "linecolor": "white",
            "ticks": ""
           }
          },
          "scene": {
           "xaxis": {
            "backgroundcolor": "#E5ECF6",
            "gridcolor": "white",
            "gridwidth": 2,
            "linecolor": "white",
            "showbackground": true,
            "ticks": "",
            "zerolinecolor": "white"
           },
           "yaxis": {
            "backgroundcolor": "#E5ECF6",
            "gridcolor": "white",
            "gridwidth": 2,
            "linecolor": "white",
            "showbackground": true,
            "ticks": "",
            "zerolinecolor": "white"
           },
           "zaxis": {
            "backgroundcolor": "#E5ECF6",
            "gridcolor": "white",
            "gridwidth": 2,
            "linecolor": "white",
            "showbackground": true,
            "ticks": "",
            "zerolinecolor": "white"
           }
          },
          "shapedefaults": {
           "line": {
            "color": "#2a3f5f"
           }
          },
          "ternary": {
           "aaxis": {
            "gridcolor": "white",
            "linecolor": "white",
            "ticks": ""
           },
           "baxis": {
            "gridcolor": "white",
            "linecolor": "white",
            "ticks": ""
           },
           "bgcolor": "#E5ECF6",
           "caxis": {
            "gridcolor": "white",
            "linecolor": "white",
            "ticks": ""
           }
          },
          "title": {
           "x": 0.05
          },
          "xaxis": {
           "automargin": true,
           "gridcolor": "white",
           "linecolor": "white",
           "ticks": "",
           "title": {
            "standoff": 15
           },
           "zerolinecolor": "white",
           "zerolinewidth": 2
          },
          "yaxis": {
           "automargin": true,
           "gridcolor": "white",
           "linecolor": "white",
           "ticks": "",
           "title": {
            "standoff": 15
           },
           "zerolinecolor": "white",
           "zerolinewidth": 2
          }
         }
        },
        "xaxis": {
         "anchor": "y",
         "autorange": true,
         "domain": [
          0,
          1
         ],
         "range": [
          "2022-06-21",
          "2022-09-07"
         ],
         "title": {
          "text": "date"
         },
         "type": "date"
        },
        "yaxis": {
         "anchor": "x",
         "autorange": true,
         "domain": [
          0,
          1
         ],
         "range": [
          65.94200000000001,
          82.62200000000001
         ],
         "title": {
          "text": "Temperature (F)"
         },
         "type": "linear"
        }
       }
      },
      "image/png": "[encoded data removed]",
      "text/html": [
       "<div>                            <div id=\"68c00394-752e-4858-8146-b30c8fd33b9e\" class=\"plotly-graph-div\" style=\"height:525px; width:100%;\"></div>            <script type=\"text/javascript\">                require([\"plotly\"], function(Plotly) {                    window.PLOTLYENV=window.PLOTLYENV || {};                                    if (document.getElementById(\"68c00394-752e-4858-8146-b30c8fd33b9e\")) {                    Plotly.newPlot(                        \"68c00394-752e-4858-8146-b30c8fd33b9e\",                        [{\"hovertemplate\":\"Label=Real\\u003cbr\\u003edate=%{x}\\u003cbr\\u003eTemperature (F)=%{y}\\u003cextra\\u003e\\u003c\\u002fextra\\u003e\",\"legendgroup\":\"Real\",\"line\":{\"color\":\"#636efa\",\"dash\":\"solid\"},\"marker\":{\"symbol\":\"circle\"},\"mode\":\"lines\",\"name\":\"Real\",\"orientation\":\"v\",\"showlegend\":true,\"x\":[\"2022-08-08T00:00:00\",\"2022-08-07T00:00:00\",\"2022-08-06T00:00:00\",\"2022-08-05T00:00:00\",\"2022-08-04T00:00:00\",\"2022-08-03T00:00:00\",\"2022-08-02T00:00:00\",\"2022-08-01T00:00:00\",\"2022-07-31T00:00:00\",\"2022-07-30T00:00:00\",\"2022-07-29T00:00:00\",\"2022-07-28T00:00:00\",\"2022-07-27T00:00:00\",\"2022-07-26T00:00:00\",\"2022-07-25T00:00:00\",\"2022-07-24T00:00:00\",\"2022-07-23T00:00:00\",\"2022-07-22T00:00:00\",\"2022-07-21T00:00:00\",\"2022-07-20T00:00:00\",\"2022-07-19T00:00:00\",\"2022-07-18T00:00:00\",\"2022-07-17T00:00:00\",\"2022-07-16T00:00:00\",\"2022-07-15T00:00:00\",\"2022-07-14T00:00:00\",\"2022-07-13T00:00:00\",\"2022-07-12T00:00:00\",\"2022-07-11T00:00:00\",\"2022-07-10T00:00:00\",\"2022-07-09T00:00:00\",\"2022-07-08T00:00:00\",\"2022-07-07T00:00:00\",\"2022-07-06T00:00:00\",\"2022-07-05T00:00:00\",\"2022-07-04T00:00:00\",\"2022-07-03T00:00:00\",\"2022-07-02T00:00:00\",\"2022-07-01T00:00:00\",\"2022-06-30T00:00:00\",\"2022-06-29T00:00:00\",\"2022-06-28T00:00:00\",\"2022-06-27T00:00:00\",\"2022-06-26T00:00:00\",\"2022-06-25T00:00:00\",\"2022-06-24T00:00:00\",\"2022-06-23T00:00:00\",\"2022-06-22T00:00:00\",\"2022-06-21T00:00:00\"],\"xaxis\":\"x\",\"y\":[80.20400000000001,80.54599999999999,78.278,76.028,74.408,76.74799999999999,76.69399999999999,76.69399999999999,75.146,73.958,75.812,74.732,72.86,72.878,72.158,71.492,73.778,75.398,77.864,76.658,79.106,78.926,77.48599999999999,79.16,77.774,73.13,70.916,69.386,74.462,76.04599999999999,74.462,72.14,72.338,70.232,69.836,68.324,66.77600000000001,70.55600000000001,73.004,74.84,77.612,80.54599999999999,81.78800000000001,78.35,77.126,76.928,77.324,77.43199999999999,74.894],\"yaxis\":\"y\",\"type\":\"scatter\"},{\"hovertemplate\":\"Label=Predicted\\u003cbr\\u003edate=%{x}\\u003cbr\\u003eTemperature (F)=%{y}\\u003cextra\\u003e\\u003c\\u002fextra\\u003e\",\"legendgroup\":\"Predicted\",\"line\":{\"color\":\"#EF553B\",\"dash\":\"solid\"},\"marker\":{\"symbol\":\"circle\"},\"mode\":\"lines\",\"name\":\"Predicted\",\"orientation\":\"v\",\"showlegend\":true,\"x\":[\"2022-08-09T00:00:00\",\"2022-08-10T00:00:00\",\"2022-08-11T00:00:00\",\"2022-08-12T00:00:00\",\"2022-08-13T00:00:00\",\"2022-08-14T00:00:00\",\"2022-08-15T00:00:00\",\"2022-08-16T00:00:00\",\"2022-08-17T00:00:00\",\"2022-08-18T00:00:00\",\"2022-08-19T00:00:00\",\"2022-08-20T00:00:00\",\"2022-08-21T00:00:00\",\"2022-08-22T00:00:00\",\"2022-08-23T00:00:00\",\"2022-08-24T00:00:00\",\"2022-08-25T00:00:00\",\"2022-08-26T00:00:00\",\"2022-08-27T00:00:00\",\"2022-08-28T00:00:00\",\"2022-08-29T00:00:00\",\"2022-08-30T00:00:00\",\"2022-08-31T00:00:00\",\"2022-09-01T00:00:00\",\"2022-09-02T00:00:00\",\"2022-09-03T00:00:00\",\"2022-09-04T00:00:00\",\"2022-09-05T00:00:00\",\"2022-09-06T00:00:00\",\"2022-09-07T00:00:00\"],\"xaxis\":\"x\",\"y\":[77.84393310546875,76.28609466552734,76.01785278320312,76.13394165039062,77.12284851074219,76.33942413330078,76.55590057373047,75.30286407470703,74.77764129638672,74.92871856689453,74.19017028808594,75.58946990966797,75.87944030761719,75.4014663696289,74.91828918457031,75.21141815185547,74.30826568603516,73.69670104980469,73.79217529296875,72.72565460205078,72.55255126953125,71.81437683105469,73.50528717041016,72.53694915771484,72.55775451660156,71.46880340576172,71.192138671875,70.26531982421875,72.084716796875,69.52568054199219],\"yaxis\":\"y\",\"type\":\"scatter\"}],                        {\"template\":{\"data\":{\"histogram2dcontour\":[{\"type\":\"histogram2dcontour\",\"colorbar\":{\"outlinewidth\":0,\"ticks\":\"\"},\"colorscale\":[[0.0,\"#0d0887\"],[0.1111111111111111,\"#46039f\"],[0.2222222222222222,\"#7201a8\"],[0.3333333333333333,\"#9c179e\"],[0.4444444444444444,\"#bd3786\"],[0.5555555555555556,\"#d8576b\"],[0.6666666666666666,\"#ed7953\"],[0.7777777777777778,\"#fb9f3a\"],[0.8888888888888888,\"#fdca26\"],[1.0,\"#f0f921\"]]}],\"choropleth\":[{\"type\":\"choropleth\",\"colorbar\":{\"outlinewidth\":0,\"ticks\":\"\"}}],\"histogram2d\":[{\"type\":\"histogram2d\",\"colorbar\":{\"outlinewidth\":0,\"ticks\":\"\"},\"colorscale\":[[0.0,\"#0d0887\"],[0.1111111111111111,\"#46039f\"],[0.2222222222222222,\"#7201a8\"],[0.3333333333333333,\"#9c179e\"],[0.4444444444444444,\"#bd3786\"],[0.5555555555555556,\"#d8576b\"],[0.6666666666666666,\"#ed7953\"],[0.7777777777777778,\"#fb9f3a\"],[0.8888888888888888,\"#fdca26\"],[1.0,\"#f0f921\"]]}],\"heatmap\":[{\"type\":\"heatmap\",\"colorbar\":{\"outlinewidth\":0,\"ticks\":\"\"},\"colorscale\":[[0.0,\"#0d0887\"],[0.1111111111111111,\"#46039f\"],[0.2222222222222222,\"#7201a8\"],[0.3333333333333333,\"#9c179e\"],[0.4444444444444444,\"#bd3786\"],[0.5555555555555556,\"#d8576b\"],[0.6666666666666666,\"#ed7953\"],[0.7777777777777778,\"#fb9f3a\"],[0.8888888888888888,\"#fdca26\"],[1.0,\"#f0f921\"]]}],\"heatmapgl\":[{\"type\":\"heatmapgl\",\"colorbar\":{\"outlinewidth\":0,\"ticks\":\"\"},\"colorscale\":[[0.0,\"#0d0887\"],[0.1111111111111111,\"#46039f\"],[0.2222222222222222,\"#7201a8\"],[0.3333333333333333,\"#9c179e\"],[0.4444444444444444,\"#bd3786\"],[0.5555555555555556,\"#d8576b\"],[0.6666666666666666,\"#ed7953\"],[0.7777777777777778,\"#fb9f3a\"],[0.8888888888888888,\"#fdca26\"],[1.0,\"#f0f921\"]]}],\"contourcarpet\":[{\"type\":\"contourcarpet\",\"colorbar\":{\"outlinewidth\":0,\"ticks\":\"\"}}],\"contour\":[{\"type\":\"contour\",\"colorbar\":{\"outlinewidth\":0,\"ticks\":\"\"},\"colorscale\":[[0.0,\"#0d0887\"],[0.1111111111111111,\"#46039f\"],[0.2222222222222222,\"#7201a8\"],[0.3333333333333333,\"#9c179e\"],[0.4444444444444444,\"#bd3786\"],[0.5555555555555556,\"#d8576b\"],[0.6666666666666666,\"#ed7953\"],[0.7777777777777778,\"#fb9f3a\"],[0.8888888888888888,\"#fdca26\"],[1.0,\"#f0f921\"]]}],\"surface\":[{\"type\":\"surface\",\"colorbar\":{\"outlinewidth\":0,\"ticks\":\"\"},\"colorscale\":[[0.0,\"#0d0887\"],[0.1111111111111111,\"#46039f\"],[0.2222222222222222,\"#7201a8\"],[0.3333333333333333,\"#9c179e\"],[0.4444444444444444,\"#bd3786\"],[0.5555555555555556,\"#d8576b\"],[0.6666666666666666,\"#ed7953\"],[0.7777777777777778,\"#fb9f3a\"],[0.8888888888888888,\"#fdca26\"],[1.0,\"#f0f921\"]]}],\"mesh3d\":[{\"type\":\"mesh3d\",\"colorbar\":{\"outlinewidth\":0,\"ticks\":\"\"}}],\"scatter\":[{\"fillpattern\":{\"fillmode\":\"overlay\",\"size\":10,\"solidity\":0.2},\"type\":\"scatter\"}],\"parcoords\":[{\"type\":\"parcoords\",\"line\":{\"colorbar\":{\"outlinewidth\":0,\"ticks\":\"\"}}}],\"scatterpolargl\":[{\"type\":\"scatterpolargl\",\"marker\":{\"colorbar\":{\"outlinewidth\":0,\"ticks\":\"\"}}}],\"bar\":[{\"error_x\":{\"color\":\"#2a3f5f\"},\"error_y\":{\"color\":\"#2a3f5f\"},\"marker\":{\"line\":{\"color\":\"#E5ECF6\",\"width\":0.5},\"pattern\":{\"fillmode\":\"overlay\",\"size\":10,\"solidity\":0.2}},\"type\":\"bar\"}],\"scattergeo\":[{\"type\":\"scattergeo\",\"marker\":{\"colorbar\":{\"outlinewidth\":0,\"ticks\":\"\"}}}],\"scatterpolar\":[{\"type\":\"scatterpolar\",\"marker\":{\"colorbar\":{\"outlinewidth\":0,\"ticks\":\"\"}}}],\"histogram\":[{\"marker\":{\"pattern\":{\"fillmode\":\"overlay\",\"size\":10,\"solidity\":0.2}},\"type\":\"histogram\"}],\"scattergl\":[{\"type\":\"scattergl\",\"marker\":{\"colorbar\":{\"outlinewidth\":0,\"ticks\":\"\"}}}],\"scatter3d\":[{\"type\":\"scatter3d\",\"line\":{\"colorbar\":{\"outlinewidth\":0,\"ticks\":\"\"}},\"marker\":{\"colorbar\":{\"outlinewidth\":0,\"ticks\":\"\"}}}],\"scattermapbox\":[{\"type\":\"scattermapbox\",\"marker\":{\"colorbar\":{\"outlinewidth\":0,\"ticks\":\"\"}}}],\"scatterternary\":[{\"type\":\"scatterternary\",\"marker\":{\"colorbar\":{\"outlinewidth\":0,\"ticks\":\"\"}}}],\"scattercarpet\":[{\"type\":\"scattercarpet\",\"marker\":{\"colorbar\":{\"outlinewidth\":0,\"ticks\":\"\"}}}],\"carpet\":[{\"aaxis\":{\"endlinecolor\":\"#2a3f5f\",\"gridcolor\":\"white\",\"linecolor\":\"white\",\"minorgridcolor\":\"white\",\"startlinecolor\":\"#2a3f5f\"},\"baxis\":{\"endlinecolor\":\"#2a3f5f\",\"gridcolor\":\"white\",\"linecolor\":\"white\",\"minorgridcolor\":\"white\",\"startlinecolor\":\"#2a3f5f\"},\"type\":\"carpet\"}],\"table\":[{\"cells\":{\"fill\":{\"color\":\"#EBF0F8\"},\"line\":{\"color\":\"white\"}},\"header\":{\"fill\":{\"color\":\"#C8D4E3\"},\"line\":{\"color\":\"white\"}},\"type\":\"table\"}],\"barpolar\":[{\"marker\":{\"line\":{\"color\":\"#E5ECF6\",\"width\":0.5},\"pattern\":{\"fillmode\":\"overlay\",\"size\":10,\"solidity\":0.2}},\"type\":\"barpolar\"}],\"pie\":[{\"automargin\":true,\"type\":\"pie\"}]},\"layout\":{\"autotypenumbers\":\"strict\",\"colorway\":[\"#636efa\",\"#EF553B\",\"#00cc96\",\"#ab63fa\",\"#FFA15A\",\"#19d3f3\",\"#FF6692\",\"#B6E880\",\"#FF97FF\",\"#FECB52\"],\"font\":{\"color\":\"#2a3f5f\"},\"hovermode\":\"closest\",\"hoverlabel\":{\"align\":\"left\"},\"paper_bgcolor\":\"white\",\"plot_bgcolor\":\"#E5ECF6\",\"polar\":{\"bgcolor\":\"#E5ECF6\",\"angularaxis\":{\"gridcolor\":\"white\",\"linecolor\":\"white\",\"ticks\":\"\"},\"radialaxis\":{\"gridcolor\":\"white\",\"linecolor\":\"white\",\"ticks\":\"\"}},\"ternary\":{\"bgcolor\":\"#E5ECF6\",\"aaxis\":{\"gridcolor\":\"white\",\"linecolor\":\"white\",\"ticks\":\"\"},\"baxis\":{\"gridcolor\":\"white\",\"linecolor\":\"white\",\"ticks\":\"\"},\"caxis\":{\"gridcolor\":\"white\",\"linecolor\":\"white\",\"ticks\":\"\"}},\"coloraxis\":{\"colorbar\":{\"outlinewidth\":0,\"ticks\":\"\"}},\"colorscale\":{\"sequential\":[[0.0,\"#0d0887\"],[0.1111111111111111,\"#46039f\"],[0.2222222222222222,\"#7201a8\"],[0.3333333333333333,\"#9c179e\"],[0.4444444444444444,\"#bd3786\"],[0.5555555555555556,\"#d8576b\"],[0.6666666666666666,\"#ed7953\"],[0.7777777777777778,\"#fb9f3a\"],[0.8888888888888888,\"#fdca26\"],[1.0,\"#f0f921\"]],\"sequentialminus\":[[0.0,\"#0d0887\"],[0.1111111111111111,\"#46039f\"],[0.2222222222222222,\"#7201a8\"],[0.3333333333333333,\"#9c179e\"],[0.4444444444444444,\"#bd3786\"],[0.5555555555555556,\"#d8576b\"],[0.6666666666666666,\"#ed7953\"],[0.7777777777777778,\"#fb9f3a\"],[0.8888888888888888,\"#fdca26\"],[1.0,\"#f0f921\"]],\"diverging\":[[0,\"#8e0152\"],[0.1,\"#c51b7d\"],[0.2,\"#de77ae\"],[0.3,\"#f1b6da\"],[0.4,\"#fde0ef\"],[0.5,\"#f7f7f7\"],[0.6,\"#e6f5d0\"],[0.7,\"#b8e186\"],[0.8,\"#7fbc41\"],[0.9,\"#4d9221\"],[1,\"#276419\"]]},\"xaxis\":{\"gridcolor\":\"white\",\"linecolor\":\"white\",\"ticks\":\"\",\"title\":{\"standoff\":15},\"zerolinecolor\":\"white\",\"automargin\":true,\"zerolinewidth\":2},\"yaxis\":{\"gridcolor\":\"white\",\"linecolor\":\"white\",\"ticks\":\"\",\"title\":{\"standoff\":15},\"zerolinecolor\":\"white\",\"automargin\":true,\"zerolinewidth\":2},\"scene\":{\"xaxis\":{\"backgroundcolor\":\"#E5ECF6\",\"gridcolor\":\"white\",\"linecolor\":\"white\",\"showbackground\":true,\"ticks\":\"\",\"zerolinecolor\":\"white\",\"gridwidth\":2},\"yaxis\":{\"backgroundcolor\":\"#E5ECF6\",\"gridcolor\":\"white\",\"linecolor\":\"white\",\"showbackground\":true,\"ticks\":\"\",\"zerolinecolor\":\"white\",\"gridwidth\":2},\"zaxis\":{\"backgroundcolor\":\"#E5ECF6\",\"gridcolor\":\"white\",\"linecolor\":\"white\",\"showbackground\":true,\"ticks\":\"\",\"zerolinecolor\":\"white\",\"gridwidth\":2}},\"shapedefaults\":{\"line\":{\"color\":\"#2a3f5f\"}},\"annotationdefaults\":{\"arrowcolor\":\"#2a3f5f\",\"arrowhead\":0,\"arrowwidth\":1},\"geo\":{\"bgcolor\":\"white\",\"landcolor\":\"#E5ECF6\",\"subunitcolor\":\"white\",\"showland\":true,\"showlakes\":true,\"lakecolor\":\"white\"},\"title\":{\"x\":0.05},\"mapbox\":{\"style\":\"light\"}}},\"xaxis\":{\"anchor\":\"y\",\"domain\":[0.0,1.0],\"title\":{\"text\":\"date\"}},\"yaxis\":{\"anchor\":\"x\",\"domain\":[0.0,1.0],\"title\":{\"text\":\"Temperature (F)\"}},\"legend\":{\"title\":{\"text\":\"Label\"},\"tracegroupgap\":0},\"margin\":{\"t\":60}},                        {\"responsive\": true}                    ).then(function(){\n",
       "                            \n",
       "var gd = document.getElementById('68c00394-752e-4858-8146-b30c8fd33b9e');\n",
       "var x = new MutationObserver(function (mutations, observer) {{\n",
       "        var display = window.getComputedStyle(gd).display;\n",
       "        if (!display || display === 'none') {{\n",
       "            console.log([gd, 'removed!']);\n",
       "            Plotly.purge(gd);\n",
       "            observer.disconnect();\n",
       "        }}\n",
       "}});\n",
       "\n",
       "// Listen for the removal of the full notebook cells\n",
       "var notebookContainer = gd.closest('#notebook-container');\n",
       "if (notebookContainer) {{\n",
       "    x.observe(notebookContainer, {childList: true});\n",
       "}}\n",
       "\n",
       "// Listen for the clearing of the current output cell\n",
       "var outputEl = gd.closest('.output');\n",
       "if (outputEl) {{\n",
       "    x.observe(outputEl, {childList: true});\n",
       "}}\n",
       "\n",
       "                        })                };                });            </script>        </div>"
      ]
     },
     "metadata": {},
     "output_type": "display_data"
    }
   ],
   "source": [
    "dataset2 = get_nasa_power_data(34.05, -118.25, \"20220620\", \"20230621\")\n",
    "real_temperature, predicted_temperature = run_model(dataset2, \"Temperature (F)\", 50, 30)\n",
    "graph = plot_predictions(\"Temperature (F)\", real_temperature, predicted_temperature, 30)\n",
    "graph.show()"
   ]
  },
  {
   "cell_type": "code",
   "execution_count": null,
   "id": "8dea5775-1d3c-4ea2-a35a-218fe8408e14",
   "metadata": {},
   "outputs": [],
   "source": []
  }
 ],
 "metadata": {
  "kernelspec": {
   "display_name": "Python [conda env:PIC16B-25W] *",
   "language": "python",
   "name": "conda-env-PIC16B-25W-py"
  },
  "language_info": {
   "codemirror_mode": {
    "name": "ipython",
    "version": 3
   },
   "file_extension": ".py",
   "mimetype": "text/x-python",
   "name": "python",
   "nbconvert_exporter": "python",
   "pygments_lexer": "ipython3",
   "version": "3.11.6"
  }
 },
 "nbformat": 4,
 "nbformat_minor": 5
}
